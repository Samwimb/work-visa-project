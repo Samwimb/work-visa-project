{
 "cells": [
  {
   "cell_type": "code",
   "execution_count": 1,
   "metadata": {},
   "outputs": [],
   "source": [
    "import pandas as pd\n",
    "import numpy as np"
   ]
  },
  {
   "cell_type": "code",
   "execution_count": 3,
   "metadata": {},
   "outputs": [],
   "source": [
    "df17 = pd.read_csv('resources/H-1B_Disclosure_Data_FY17.csv', low_memory=False, thousands=',')"
   ]
  },
  {
   "cell_type": "code",
   "execution_count": 4,
   "metadata": {},
   "outputs": [
    {
     "data": {
      "text/plain": [
       "Index(['CASE_NUMBER', 'CASE_STATUS', 'CASE_SUBMITTED', 'DECISION_DATE',\n",
       "       'VISA_CLASS', 'EMPLOYMENT_START_DATE', 'EMPLOYMENT_END_DATE',\n",
       "       'EMPLOYER_NAME', 'EMPLOYER_BUSINESS_DBA', 'EMPLOYER_ADDRESS',\n",
       "       'EMPLOYER_CITY', 'EMPLOYER_STATE', 'EMPLOYER_POSTAL_CODE',\n",
       "       'EMPLOYER_COUNTRY', 'EMPLOYER_PROVINCE', 'EMPLOYER_PHONE',\n",
       "       'EMPLOYER_PHONE_EXT', 'AGENT_REPRESENTING_EMPLOYER',\n",
       "       'AGENT_ATTORNEY_NAME', 'AGENT_ATTORNEY_CITY', 'AGENT_ATTORNEY_STATE',\n",
       "       'JOB_TITLE', 'SOC_CODE', 'SOC_NAME', 'NAICS_CODE', 'TOTAL_WORKERS',\n",
       "       'NEW_EMPLOYMENT', 'CONTINUED_EMPLOYMENT', 'CHANGE_PREVIOUS_EMPLOYMENT',\n",
       "       'NEW_CONCURRENT_EMPLOYMENT', 'CHANGE_EMPLOYER', 'AMENDED_PETITION',\n",
       "       'FULL_TIME_POSITION', 'PREVAILING_WAGE', 'PW_UNIT_OF_PAY',\n",
       "       'PW_WAGE_LEVEL', 'PW_SOURCE', 'PW_SOURCE_YEAR', 'PW_SOURCE_OTHER',\n",
       "       'WAGE_RATE_OF_PAY_FROM', 'WAGE_RATE_OF_PAY_TO', 'WAGE_UNIT_OF_PAY',\n",
       "       'H1B_DEPENDENT', 'WILLFUL_VIOLATOR', 'SUPPORT_H1B', 'LABOR_CON_AGREE',\n",
       "       'PUBLIC_DISCLOSURE_LOCATION', 'WORKSITE_CITY', 'WORKSITE_COUNTY',\n",
       "       'WORKSITE_STATE', 'WORKSITE_POSTAL_CODE', 'ORIGINAL_CERT_DATE'],\n",
       "      dtype='object')"
      ]
     },
     "execution_count": 4,
     "metadata": {},
     "output_type": "execute_result"
    }
   ],
   "source": [
    "df17.columns"
   ]
  },
  {
   "cell_type": "code",
   "execution_count": 5,
   "metadata": {},
   "outputs": [],
   "source": [
    "cols_to_keep = ['CASE_NUMBER', 'CASE_STATUS', 'CASE_SUBMITTED', 'DECISION_DATE',\n",
    "                'VISA_CLASS', 'EMPLOYMENT_START_DATE', 'EMPLOYMENT_END_DATE', 'EMPLOYER_CITY',\n",
    "                'EMPLOYER_STATE', 'EMPLOYER_POSTAL_CODE', 'JOB_TITLE', 'SOC_CODE', 'SOC_NAME',\n",
    "                'PREVAILING_WAGE', 'PW_UNIT_OF_PAY', 'WILLFUL_VIOLATOR', 'WORKSITE_CITY',\n",
    "                'WORKSITE_STATE', 'WORKSITE_POSTAL_CODE']"
   ]
  },
  {
   "cell_type": "code",
   "execution_count": 6,
   "metadata": {},
   "outputs": [],
   "source": [
    "df17 = df17[cols_to_keep]"
   ]
  },
  {
   "cell_type": "code",
   "execution_count": 7,
   "metadata": {},
   "outputs": [
    {
     "data": {
      "text/plain": [
       "CASE_NUMBER              624650\n",
       "CASE_STATUS              624650\n",
       "CASE_SUBMITTED           624650\n",
       "DECISION_DATE            624650\n",
       "VISA_CLASS               624650\n",
       "EMPLOYMENT_START_DATE    624621\n",
       "EMPLOYMENT_END_DATE      624620\n",
       "EMPLOYER_CITY            624635\n",
       "EMPLOYER_STATE           624632\n",
       "EMPLOYER_POSTAL_CODE     624632\n",
       "JOB_TITLE                624645\n",
       "SOC_CODE                 624648\n",
       "SOC_NAME                 624647\n",
       "PREVAILING_WAGE          624649\n",
       "PW_UNIT_OF_PAY           624604\n",
       "WILLFUL_VIOLATOR         610905\n",
       "WORKSITE_CITY            624637\n",
       "WORKSITE_STATE           624641\n",
       "WORKSITE_POSTAL_CODE     624631\n",
       "dtype: int64"
      ]
     },
     "execution_count": 7,
     "metadata": {},
     "output_type": "execute_result"
    }
   ],
   "source": [
    "df17.count()"
   ]
  },
  {
   "cell_type": "code",
   "execution_count": 8,
   "metadata": {},
   "outputs": [],
   "source": [
    "df17.dropna(inplace=True)"
   ]
  },
  {
   "cell_type": "code",
   "execution_count": 9,
   "metadata": {
    "scrolled": true
   },
   "outputs": [
    {
     "data": {
      "text/plain": [
       "CASE_NUMBER              610782\n",
       "CASE_STATUS              610782\n",
       "CASE_SUBMITTED           610782\n",
       "DECISION_DATE            610782\n",
       "VISA_CLASS               610782\n",
       "EMPLOYMENT_START_DATE    610782\n",
       "EMPLOYMENT_END_DATE      610782\n",
       "EMPLOYER_CITY            610782\n",
       "EMPLOYER_STATE           610782\n",
       "EMPLOYER_POSTAL_CODE     610782\n",
       "JOB_TITLE                610782\n",
       "SOC_CODE                 610782\n",
       "SOC_NAME                 610782\n",
       "PREVAILING_WAGE          610782\n",
       "PW_UNIT_OF_PAY           610782\n",
       "WILLFUL_VIOLATOR         610782\n",
       "WORKSITE_CITY            610782\n",
       "WORKSITE_STATE           610782\n",
       "WORKSITE_POSTAL_CODE     610782\n",
       "dtype: int64"
      ]
     },
     "execution_count": 9,
     "metadata": {},
     "output_type": "execute_result"
    }
   ],
   "source": [
    "df17.count()"
   ]
  },
  {
   "cell_type": "code",
   "execution_count": 10,
   "metadata": {},
   "outputs": [],
   "source": [
    "df16 = pd.read_csv('resources/H-1B_Disclosure_Data_FY16.csv', low_memory=False, thousands=',')"
   ]
  },
  {
   "cell_type": "code",
   "execution_count": 11,
   "metadata": {},
   "outputs": [
    {
     "data": {
      "text/plain": [
       "CASE_NUMBER              647852\n",
       "CASE_STATUS              647852\n",
       "CASE_SUBMITTED           647852\n",
       "DECISION_DATE            647852\n",
       "VISA_CLASS               647852\n",
       "EMPLOYMENT_START_DATE    647835\n",
       "EMPLOYMENT_END_DATE      647827\n",
       "EMPLOYER_NAME            647837\n",
       "EMPLOYER_ADDRESS         647847\n",
       "EMPLOYER_CITY            647846\n",
       "EMPLOYER_STATE           647818\n",
       "EMPLOYER_POSTAL_CODE     647831\n",
       "EMPLOYER_COUNTRY         647849\n",
       "EMPLOYER_PROVINCE          7672\n",
       "EMPLOYER_PHONE           647849\n",
       "EMPLOYER_PHONE_EXT        34262\n",
       "AGENT_ATTORNEY_NAME      647852\n",
       "AGENT_ATTORNEY_CITY      406318\n",
       "AGENT_ATTORNEY_STATE     395790\n",
       "JOB_TITLE                647845\n",
       "SOC_CODE                 647844\n",
       "SOC_NAME                 647844\n",
       "NAIC_CODE                647847\n",
       "TOTAL_WORKERS            647852\n",
       "FULL_TIME_POSITION            0\n",
       "PREVAILING_WAGE          647851\n",
       "PW_UNIT_OF_PAY           647803\n",
       "PW_WAGE_SOURCE           647799\n",
       "PW_SOURCE_YEAR           647791\n",
       "PW_SOURCE_OTHER          639665\n",
       "WAGE_RATE_OF_PAY_FROM    647852\n",
       "WAGE_RATE_OF_PAY_TO      647851\n",
       "WAGE_UNIT_OF_PAY         647842\n",
       "H-1B_DEPENDENT           634580\n",
       "WILLFUL_VIOLATOR         634579\n",
       "WORKSITE_CITY            647834\n",
       "WORKSITE_COUNTY          646508\n",
       "WORKSITE_STATE           647842\n",
       "WORKSITE_POSTAL_CODE     647820\n",
       "ORIGINAL_CERT_DATE        47092\n",
       "dtype: int64"
      ]
     },
     "execution_count": 11,
     "metadata": {},
     "output_type": "execute_result"
    }
   ],
   "source": [
    "df16.count()"
   ]
  },
  {
   "cell_type": "code",
   "execution_count": 12,
   "metadata": {},
   "outputs": [],
   "source": [
    "df16 = df16[cols_to_keep]"
   ]
  },
  {
   "cell_type": "code",
   "execution_count": 13,
   "metadata": {},
   "outputs": [
    {
     "data": {
      "text/plain": [
       "CASE_NUMBER              647852\n",
       "CASE_STATUS              647852\n",
       "CASE_SUBMITTED           647852\n",
       "DECISION_DATE            647852\n",
       "VISA_CLASS               647852\n",
       "EMPLOYMENT_START_DATE    647835\n",
       "EMPLOYMENT_END_DATE      647827\n",
       "EMPLOYER_CITY            647846\n",
       "EMPLOYER_STATE           647818\n",
       "EMPLOYER_POSTAL_CODE     647831\n",
       "JOB_TITLE                647845\n",
       "SOC_CODE                 647844\n",
       "SOC_NAME                 647844\n",
       "PREVAILING_WAGE          647851\n",
       "PW_UNIT_OF_PAY           647803\n",
       "WILLFUL_VIOLATOR         634579\n",
       "WORKSITE_CITY            647834\n",
       "WORKSITE_STATE           647842\n",
       "WORKSITE_POSTAL_CODE     647820\n",
       "dtype: int64"
      ]
     },
     "execution_count": 13,
     "metadata": {},
     "output_type": "execute_result"
    }
   ],
   "source": [
    "df16.count()"
   ]
  },
  {
   "cell_type": "code",
   "execution_count": 14,
   "metadata": {},
   "outputs": [],
   "source": [
    "df16.dropna(inplace=True)"
   ]
  },
  {
   "cell_type": "code",
   "execution_count": 15,
   "metadata": {},
   "outputs": [
    {
     "data": {
      "text/plain": [
       "CASE_NUMBER              634442\n",
       "CASE_STATUS              634442\n",
       "CASE_SUBMITTED           634442\n",
       "DECISION_DATE            634442\n",
       "VISA_CLASS               634442\n",
       "EMPLOYMENT_START_DATE    634442\n",
       "EMPLOYMENT_END_DATE      634442\n",
       "EMPLOYER_CITY            634442\n",
       "EMPLOYER_STATE           634442\n",
       "EMPLOYER_POSTAL_CODE     634442\n",
       "JOB_TITLE                634442\n",
       "SOC_CODE                 634442\n",
       "SOC_NAME                 634442\n",
       "PREVAILING_WAGE          634442\n",
       "PW_UNIT_OF_PAY           634442\n",
       "WILLFUL_VIOLATOR         634442\n",
       "WORKSITE_CITY            634442\n",
       "WORKSITE_STATE           634442\n",
       "WORKSITE_POSTAL_CODE     634442\n",
       "dtype: int64"
      ]
     },
     "execution_count": 15,
     "metadata": {},
     "output_type": "execute_result"
    }
   ],
   "source": [
    "df16.count()"
   ]
  },
  {
   "cell_type": "code",
   "execution_count": 16,
   "metadata": {},
   "outputs": [
    {
     "data": {
      "text/plain": [
       "CASE_NUMBER               object\n",
       "CASE_STATUS               object\n",
       "CASE_SUBMITTED            object\n",
       "DECISION_DATE             object\n",
       "VISA_CLASS                object\n",
       "EMPLOYMENT_START_DATE     object\n",
       "EMPLOYMENT_END_DATE       object\n",
       "EMPLOYER_CITY             object\n",
       "EMPLOYER_STATE            object\n",
       "EMPLOYER_POSTAL_CODE      object\n",
       "JOB_TITLE                 object\n",
       "SOC_CODE                  object\n",
       "SOC_NAME                  object\n",
       "PREVAILING_WAGE          float64\n",
       "PW_UNIT_OF_PAY            object\n",
       "WILLFUL_VIOLATOR          object\n",
       "WORKSITE_CITY             object\n",
       "WORKSITE_STATE            object\n",
       "WORKSITE_POSTAL_CODE      object\n",
       "dtype: object"
      ]
     },
     "execution_count": 16,
     "metadata": {},
     "output_type": "execute_result"
    }
   ],
   "source": [
    "df17.dtypes"
   ]
  },
  {
   "cell_type": "code",
   "execution_count": 17,
   "metadata": {},
   "outputs": [
    {
     "data": {
      "text/plain": [
       "CASE_NUMBER               object\n",
       "CASE_STATUS               object\n",
       "CASE_SUBMITTED            object\n",
       "DECISION_DATE             object\n",
       "VISA_CLASS                object\n",
       "EMPLOYMENT_START_DATE     object\n",
       "EMPLOYMENT_END_DATE       object\n",
       "EMPLOYER_CITY             object\n",
       "EMPLOYER_STATE            object\n",
       "EMPLOYER_POSTAL_CODE      object\n",
       "JOB_TITLE                 object\n",
       "SOC_CODE                  object\n",
       "SOC_NAME                  object\n",
       "PREVAILING_WAGE          float64\n",
       "PW_UNIT_OF_PAY            object\n",
       "WILLFUL_VIOLATOR          object\n",
       "WORKSITE_CITY             object\n",
       "WORKSITE_STATE            object\n",
       "WORKSITE_POSTAL_CODE      object\n",
       "dtype: object"
      ]
     },
     "execution_count": 17,
     "metadata": {},
     "output_type": "execute_result"
    }
   ],
   "source": [
    "df16.dtypes"
   ]
  },
  {
   "cell_type": "code",
   "execution_count": 19,
   "metadata": {},
   "outputs": [],
   "source": [
    "df17['EMPLOYER_POSTAL_CODE'] = df17['EMPLOYER_POSTAL_CODE'].str.split('-').str[0]"
   ]
  },
  {
   "cell_type": "code",
   "execution_count": 21,
   "metadata": {},
   "outputs": [],
   "source": [
    "df17['EMPLOYER_POSTAL_CODE'] = df17['EMPLOYER_POSTAL_CODE'].apply(lambda x: '{0:0>5}'.format(x))"
   ]
  },
  {
   "cell_type": "code",
   "execution_count": 23,
   "metadata": {},
   "outputs": [],
   "source": [
    "df16['EMPLOYER_POSTAL_CODE'] = df16['EMPLOYER_POSTAL_CODE'].str.split('-').str[0]"
   ]
  },
  {
   "cell_type": "code",
   "execution_count": 24,
   "metadata": {},
   "outputs": [],
   "source": [
    "df16['EMPLOYER_POSTAL_CODE'] = df16['EMPLOYER_POSTAL_CODE'].apply(lambda x: '{0:0>5}'.format(x))"
   ]
  },
  {
   "cell_type": "code",
   "execution_count": 25,
   "metadata": {},
   "outputs": [],
   "source": [
    "df17['WORKSITE_POSTAL_CODE'] = df17['WORKSITE_POSTAL_CODE'].str.split('-').str[0]\n",
    "df16['WORKSITE_POSTAL_CODE'] = df16['WORKSITE_POSTAL_CODE'].str.split('-').str[0]"
   ]
  },
  {
   "cell_type": "code",
   "execution_count": 26,
   "metadata": {},
   "outputs": [],
   "source": [
    "df17['WORKSITE_POSTAL_CODE'] = df17['WORKSITE_POSTAL_CODE'].apply(lambda x: '{0:0>5}'.format(x))\n",
    "df16['WORKSITE_POSTAL_CODE'] = df16['WORKSITE_POSTAL_CODE'].apply(lambda x: '{0:0>5}'.format(x))"
   ]
  },
  {
   "cell_type": "code",
   "execution_count": 37,
   "metadata": {},
   "outputs": [],
   "source": [
    "df17 = df17[df17.duplicated(subset=['SOC_CODE', 'SOC_NAME'], keep=False)]"
   ]
  },
  {
   "cell_type": "code",
   "execution_count": 40,
   "metadata": {},
   "outputs": [],
   "source": [
    "df16 = df16[df16.duplicated(subset=['SOC_CODE', 'SOC_NAME'], keep=False)]"
   ]
  },
  {
   "cell_type": "code",
   "execution_count": 41,
   "metadata": {},
   "outputs": [],
   "source": [
    "df17.to_csv('resources/H-1B_FY17.csv', index=False)"
   ]
  },
  {
   "cell_type": "code",
   "execution_count": 42,
   "metadata": {},
   "outputs": [],
   "source": [
    "df16.to_csv('resources/H-1B_FY16.csv', index=False)"
   ]
  },
  {
   "cell_type": "code",
   "execution_count": null,
   "metadata": {},
   "outputs": [],
   "source": []
  }
 ],
 "metadata": {
  "kernelspec": {
   "display_name": "Python 3",
   "language": "python",
   "name": "python3"
  },
  "language_info": {
   "codemirror_mode": {
    "name": "ipython",
    "version": 3
   },
   "file_extension": ".py",
   "mimetype": "text/x-python",
   "name": "python",
   "nbconvert_exporter": "python",
   "pygments_lexer": "ipython3",
   "version": "3.7.3"
  }
 },
 "nbformat": 4,
 "nbformat_minor": 2
}
